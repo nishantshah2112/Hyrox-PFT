{
 "cells": [
  {
   "cell_type": "code",
   "execution_count": 2,
   "metadata": {},
   "outputs": [
    {
     "name": "stdout",
     "output_type": "stream",
     "text": [
      "No more pages left.\n",
      "Data saved to hyrox_rankings.csv ✅\n"
     ]
    }
   ],
   "source": [
    "from selenium import webdriver\n",
    "from selenium.webdriver.common.by import By\n",
    "from selenium.webdriver.chrome.service import Service\n",
    "from selenium.webdriver.chrome.options import Options\n",
    "from selenium.webdriver.support.ui import WebDriverWait\n",
    "from selenium.webdriver.support import expected_conditions as EC\n",
    "from webdriver_manager.chrome import ChromeDriverManager\n",
    "from bs4 import BeautifulSoup\n",
    "import time\n",
    "import pandas as pd\n",
    "\n",
    "# Set up Selenium WebDriver with WebDriver Manager\n",
    "chrome_options = Options()\n",
    "chrome_options.add_argument(\"--headless\")  # Run in headless mode (optional)\n",
    "chrome_options.add_argument(\"--disable-gpu\")\n",
    "chrome_options.add_argument(\"--no-sandbox\")\n",
    "chrome_options.add_argument(\"--window-size=1920,1080\")\n",
    "\n",
    "service = Service(ChromeDriverManager().install())\n",
    "driver = webdriver.Chrome(service=service, options=chrome_options)\n",
    "\n",
    "# Open the website\n",
    "url = \"https://pft.hyrox.com/ranking/global\"\n",
    "driver.get(url)\n",
    "time.sleep(5)  # Wait for page to load\n",
    "\n",
    "all_data = []\n",
    "\n",
    "\n",
    "# Function to extract data from the page\n",
    "def extract_data():\n",
    "    soup = BeautifulSoup(driver.page_source, \"html.parser\")\n",
    "    rows = soup.find_all(\"tr\", class_=\"focus-within:bg-gray-lighter\")\n",
    "\n",
    "    for row in rows:\n",
    "        cols = row.find_all(\"td\")\n",
    "        if len(cols) >= 6:\n",
    "            rank = cols[0].text.strip()\n",
    "            name = cols[1].text.strip()\n",
    "            time = cols[2].text.strip()\n",
    "            location = cols[3].text.strip()\n",
    "            age_group = cols[4].text.strip()\n",
    "            medal = cols[5].find(\"img\")[\"alt\"] if cols[5].find(\"img\") else \"None\"\n",
    "\n",
    "            all_data.append([rank, name, time, location, age_group, medal])\n",
    "\n",
    "\n",
    "# Extract data from all pages\n",
    "while True:\n",
    "    extract_data()\n",
    "    try:\n",
    "        # Locate the \"Next page\" button and click it\n",
    "        next_button = WebDriverWait(driver, 5).until(\n",
    "            EC.element_to_be_clickable(\n",
    "                (\n",
    "                    By.XPATH,\n",
    "                    \"//a[contains(@class, 'cursor-pointer') and .//span[contains(text(), 'Next page')]]\",\n",
    "                )\n",
    "            )\n",
    "        )\n",
    "        next_button.click()\n",
    "        time.sleep(3)  # Wait for new data to load\n",
    "    except:\n",
    "        print(\"No more pages left.\")\n",
    "        break\n",
    "\n",
    "# Close the driver\n",
    "driver.quit()\n",
    "\n",
    "# Save data to CSV\n",
    "df = pd.DataFrame(\n",
    "    all_data, columns=[\"Rank\", \"Name\", \"Time\", \"Location\", \"Age Group\", \"Medal\"]\n",
    ")\n",
    "df.to_csv(\"hyrox_rankings.csv\", index=False)\n",
    "print(\"Data saved to hyrox_rankings.csv ✅\")"
   ]
  }
 ],
 "metadata": {
  "kernelspec": {
   "display_name": "myenv",
   "language": "python",
   "name": "python3"
  },
  "language_info": {
   "codemirror_mode": {
    "name": "ipython",
    "version": 3
   },
   "file_extension": ".py",
   "mimetype": "text/x-python",
   "name": "python",
   "nbconvert_exporter": "python",
   "pygments_lexer": "ipython3",
   "version": "3.13.0"
  }
 },
 "nbformat": 4,
 "nbformat_minor": 2
}
